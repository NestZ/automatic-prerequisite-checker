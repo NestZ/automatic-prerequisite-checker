{
 "cells": [
  {
   "cell_type": "code",
   "execution_count": 1,
   "metadata": {},
   "outputs": [],
   "source": [
    "import pandas as pd\n",
    "import csv"
   ]
  },
  {
   "cell_type": "code",
   "execution_count": 2,
   "metadata": {},
   "outputs": [],
   "source": [
    "faculty = ['medicine', 'pharmacy', 'veterinary medicine', 'dentistry', 'architecture', 'science', 'associated medical sciences', 'economics', 'agro-industry', 'agriculture', 'humanities', 'engineering', 'arts, media and technology', 'business administration', 'education']\n",
    "\n",
    "bulletin_header = ['courseno', 'year_end', 'open_status', 'pre_check']"
   ]
  },
  {
   "cell_type": "code",
   "execution_count": 5,
   "metadata": {},
   "outputs": [],
   "source": [
    "class BulletinBeautifier :\n",
    "\n",
    "\tdef __init__(self, csv_path) :\n",
    "\t\tself.arr = self.csv_to_arr(csv_path, True)\n",
    "\n",
    "\tdef csv_to_arr(self, csv_path, has_course_num = False) :\n",
    "\t\tdata = pd.read_csv(csv_path, delimiter = ',')\n",
    "\t\trows = []\n",
    "\t\tfor _, row in data.iterrows() :\n",
    "\t\t\tif has_course_num :\n",
    "\t\t\t\trow[0] = str(row[0]).strip()\n",
    "\t\t\t\trow[0] = '0' * (6 - len(row[0])) + row[0]\n",
    "\t\t\trows.append(row)\n",
    "\t\treturn rows\n",
    "\n",
    "\tdef arr_to_csv(self, header, des_path, arr = []) :\n",
    "\t\twith open(des_path, 'w') as f :\n",
    "\t\t\twriter = csv.writer(f)\n",
    "\t\t\twriter.writerow(header)\n",
    "\t\t\tif arr == [] :\n",
    "\t\t\t\twriter.writerows(self.arr)\n",
    "\t\t\telse :\n",
    "\t\t\t\twriter.writerows(arr)\n",
    "\n",
    "\tdef filter_corres_courses(self) :\n",
    "\t\tnew_arr = []\n",
    "\t\tfor row in self.arr :\n",
    "\t\t\tif row[1] != 2599 or int(row[0]) % 1000 >= 700 or str(row[2]) == '0' :\n",
    "\t\t\t\tcontinue\n",
    "\t\t\tnew_arr.append(row)\n",
    "\t\tself.arr = new_arr\n",
    "\t\t# self.remove_duplicate_course()\n",
    "\n",
    "\tdef replace_nan(self) :\n",
    "\t\tnew_arr = []\n",
    "\t\tfor row in self.arr :\n",
    "\t\t\tif str(row[3]) == 'nan' :\n",
    "\t\t\t\trow[3] = 'none'\n",
    "\t\t\tnew_arr.append(row)\n",
    "\t\tself.arr = new_arr\n",
    "\n",
    "\tdef remove_duplicate_course(self) :\n",
    "\t\tnew_arr = []\n",
    "\t\tfor row in self.arr :\n",
    "\t\t\tif str(row[1]) == \"112212\" and str(row[36]) == \"112106\" :\n",
    "\t\t\t\tpass\n",
    "\t\t\telse :\n",
    "\t\t\t\tnew_arr.append(row)\n",
    "\t\tself.arr = new_arr"
   ]
  },
  {
   "cell_type": "code",
   "execution_count": 6,
   "metadata": {},
   "outputs": [],
   "source": [
    "# read bulletin\n",
    "b = BulletinBeautifier('./bulletin.csv')\n",
    "# filter only active courses\n",
    "b.filter_corres_courses()\n",
    "# b.normalize_conditions()\n",
    "b.replace_nan()\n",
    "# save csv file\n",
    "b.arr_to_csv(bulletin_header, './bulletin-corres.csv')\n",
    "\n",
    "# normalization\n",
    "# b.normalize_condition_strings()\n",
    "# map synonym and refactor\n",
    "# b.replace_synonym_and_typo()\n",
    "# remove semicolon\n",
    "# b.remove_semicolon()\n",
    "# merge concurrence\n",
    "# b.merge_concurrence()\n",
    "# remove optometry sub-major\n",
    "# b.remove_optometry()\n",
    "# add prefix for / not for\n",
    "# b.add_prefix_for()\n",
    "# replace manually fixed conditions\n",
    "# b.replace_manually_fixed_conditions('./manually-fixed-conditions.csv')\n",
    "# temporary set to none for error cases\n",
    "# b.replace_err('./merged.csv')\n",
    "# temporary remove good conditions\n",
    "# b.filter_good('./manually-fixed-conditions.csv')\n",
    "# save csv file\n",
    "# b.arr_to_csv(bulletin_header, './csv/reg-condition-corres-refactored.csv')\n",
    "# gen condition files\n",
    "# b.gen_condition_files('./conditions/')"
   ]
  },
  {
   "cell_type": "code",
   "execution_count": 14,
   "metadata": {},
   "outputs": [],
   "source": [
    "def create_fac_group() :\n",
    "\tarr = b.csv_to_arr('./temp/faculty_group.csv')\n",
    "\theader = ['facId', 'facName', 'facGroup']\n",
    "\tnew_arr = []\n",
    "\tfor row in arr :\n",
    "\t\tfacId = '0' * (2 - len(str(row[0]))) + str(row[0])\n",
    "\t\tfacGroup = '0' * (2 - len(str(row[7]))) + str(row[7])\n",
    "\t\tnew_row = [facId, str(row[2]).strip(), facGroup]\n",
    "\t\tnew_arr.append(new_row)\n",
    "\tb.arr_to_csv(header, './faculty.csv', new_arr)"
   ]
  },
  {
   "cell_type": "code",
   "execution_count": 16,
   "metadata": {},
   "outputs": [],
   "source": [
    "def create_major() :\n",
    "\tarr = b.csv_to_arr('./temp/tbl_major.csv')\n",
    "\theader = ['facId', 'majorId', 'majorName']\n",
    "\tnew_arr = []\n",
    "\tfor row in arr :\n",
    "\t\tif str(row[0]) != '1' :\n",
    "\t\t\tcontinue\n",
    "\t\tfacId = '0' * (2 - len(str(row[1]))) + str(row[1])\n",
    "\t\tmajorId = '0' * (2 - len(str(row[2]))) + str(row[2])\n",
    "\t\tnew_row = [facId, majorId, str(row[4]).strip()]\n",
    "\t\tnew_arr.append(new_row)\n",
    "\tb.arr_to_csv(header, './major.csv', new_arr)"
   ]
  },
  {
   "cell_type": "code",
   "execution_count": 13,
   "metadata": {},
   "outputs": [],
   "source": [
    "def create_sub_major() :\n",
    "\tarr = b.csv_to_arr('./temp/tbl_major_sub.csv')\n",
    "\theader = ['facId', 'majorId', 'subMajorId', 'subMajorName']\n",
    "\tnew_arr = []\n",
    "\tfor row in arr :\n",
    "\t\tif str(row[0]) != '1' :\n",
    "\t\t\tcontinue\n",
    "\t\tfacId = '0' * (2 - len(str(row[1]))) + str(row[1])\n",
    "\t\tmajorId = '0' * (2 - len(str(row[2]))) + str(row[2])\n",
    "\t\tsubMajorId = '0' * (2 - len(str(row[4]))) + str(row[4])\n",
    "\t\tnew_row = [facId, majorId, subMajorId, str(row[6]).strip()]\n",
    "\t\tnew_arr.append(new_row)\n",
    "\tb.arr_to_csv(header, './sub_major.csv', new_arr)"
   ]
  }
 ],
 "metadata": {
  "interpreter": {
   "hash": "9cc34758efb1a780ed9668c34db9e628f66d3857b55f97cba7b9494b4a29028a"
  },
  "kernelspec": {
   "display_name": "Python 3.8.5 ('base')",
   "language": "python",
   "name": "python3"
  },
  "language_info": {
   "codemirror_mode": {
    "name": "ipython",
    "version": 3
   },
   "file_extension": ".py",
   "mimetype": "text/x-python",
   "name": "python",
   "nbconvert_exporter": "python",
   "pygments_lexer": "ipython3",
   "version": "3.8.5"
  },
  "orig_nbformat": 4
 },
 "nbformat": 4,
 "nbformat_minor": 2
}
