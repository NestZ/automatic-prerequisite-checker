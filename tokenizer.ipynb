{
 "cells": [
  {
   "cell_type": "code",
   "execution_count": 46,
   "metadata": {},
   "outputs": [],
   "source": [
    "import pandas as pd\n",
    "import re\n",
    "import collections\n",
    "import pprint"
   ]
  },
  {
   "cell_type": "code",
   "execution_count": 5,
   "metadata": {},
   "outputs": [
    {
     "data": {
      "text/html": [
       "<div>\n",
       "<style scoped>\n",
       "    .dataframe tbody tr th:only-of-type {\n",
       "        vertical-align: middle;\n",
       "    }\n",
       "\n",
       "    .dataframe tbody tr th {\n",
       "        vertical-align: top;\n",
       "    }\n",
       "\n",
       "    .dataframe thead th {\n",
       "        text-align: right;\n",
       "    }\n",
       "</style>\n",
       "<table border=\"1\" class=\"dataframe\">\n",
       "  <thead>\n",
       "    <tr style=\"text-align: right;\">\n",
       "      <th></th>\n",
       "      <th>courseId</th>\n",
       "      <th>courseNumber</th>\n",
       "      <th>condition</th>\n",
       "    </tr>\n",
       "  </thead>\n",
       "  <tbody>\n",
       "    <tr>\n",
       "      <th>0</th>\n",
       "      <td>25468</td>\n",
       "      <td>100316</td>\n",
       "      <td>100112 and third year standing; or 100112 and ...</td>\n",
       "    </tr>\n",
       "    <tr>\n",
       "      <th>1</th>\n",
       "      <td>6760</td>\n",
       "      <td>206787</td>\n",
       "      <td>206332 and one year courses in statistic, basi...</td>\n",
       "    </tr>\n",
       "    <tr>\n",
       "      <th>2</th>\n",
       "      <td>22660</td>\n",
       "      <td>703798</td>\n",
       "      <td>Students are required to submit independent st...</td>\n",
       "    </tr>\n",
       "    <tr>\n",
       "      <th>3</th>\n",
       "      <td>92</td>\n",
       "      <td>1320</td>\n",
       "      <td>001101 AND 001102 AND 001201 AND 001202; OR 00...</td>\n",
       "    </tr>\n",
       "    <tr>\n",
       "      <th>4</th>\n",
       "      <td>24731</td>\n",
       "      <td>204482</td>\n",
       "      <td>204203 or 204211 or 204214 or 204215 or 204216...</td>\n",
       "    </tr>\n",
       "  </tbody>\n",
       "</table>\n",
       "</div>"
      ],
      "text/plain": [
       "   courseId   courseNumber                                          condition\n",
       "0     25468         100316  100112 and third year standing; or 100112 and ...\n",
       "1      6760         206787  206332 and one year courses in statistic, basi...\n",
       "2     22660         703798  Students are required to submit independent st...\n",
       "3        92           1320  001101 AND 001102 AND 001201 AND 001202; OR 00...\n",
       "4     24731         204482  204203 or 204211 or 204214 or 204215 or 204216..."
      ]
     },
     "execution_count": 5,
     "metadata": {},
     "output_type": "execute_result"
    }
   ],
   "source": [
    "data = pd.read_csv('reg-condition.csv', delimiter = ',')\n",
    "\n",
    "data.head()"
   ]
  },
  {
   "cell_type": "code",
   "execution_count": 50,
   "metadata": {},
   "outputs": [],
   "source": [
    "token = []\n",
    "head = data.head(10)\n",
    "\n",
    "for index, row in data.iterrows() :\n",
    "\tcondition = str(row[2]).lower()\n",
    "\tsplited = re.split(';| and | or ', condition)\n",
    "\tsplited = [(lambda s : s.strip())(s) for s in splited]\n",
    "\tsplited = list(filter(None, splited))\n",
    "\tfor s in splited :\n",
    "\t\ttoken.append(s)\n",
    "\n",
    "counter = collections.Counter(token)\n",
    "\n",
    "with open('output.txt', 'w') as output :\n",
    "\tpprint.pprint(dict(counter), output)"
   ]
  },
  {
   "cell_type": "markdown",
   "metadata": {},
   "source": [
    "- one year courses in statistic, basic concepts of set theory\n",
    "- some probabilistic concept\n",
    "\n",
    "- ; is 'and' or 'or'"
   ]
  }
 ],
 "metadata": {
  "interpreter": {
   "hash": "916dbcbb3f70747c44a77c7bcd40155683ae19c65e1c03b4aa3499c5328201f1"
  },
  "kernelspec": {
   "display_name": "Python 3.9.7 64-bit",
   "language": "python",
   "name": "python3"
  },
  "language_info": {
   "codemirror_mode": {
    "name": "ipython",
    "version": 3
   },
   "file_extension": ".py",
   "mimetype": "text/x-python",
   "name": "python",
   "nbconvert_exporter": "python",
   "pygments_lexer": "ipython3",
   "version": "3.8.5"
  },
  "orig_nbformat": 4
 },
 "nbformat": 4,
 "nbformat_minor": 2
}
